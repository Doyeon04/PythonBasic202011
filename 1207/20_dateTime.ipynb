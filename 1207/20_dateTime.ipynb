{
 "cells": [
  {
   "cell_type": "code",
   "execution_count": 1,
   "metadata": {},
   "outputs": [
    {
     "name": "stdout",
     "output_type": "stream",
     "text": [
      "2020-12-07 19:10:12.810899\n"
     ]
    }
   ],
   "source": [
    "import datetime\n",
    "now = datetime.datetime.now()\n",
    "print(now)"
   ]
  },
  {
   "cell_type": "code",
   "execution_count": 2,
   "metadata": {},
   "outputs": [
    {
     "name": "stdout",
     "output_type": "stream",
     "text": [
      "2020-12-07 19:10:12.845900\n"
     ]
    }
   ],
   "source": [
    "from datetime import datetime\n",
    "now = datetime.now()\n",
    "print(now)"
   ]
  },
  {
   "cell_type": "code",
   "execution_count": 3,
   "metadata": {},
   "outputs": [
    {
     "name": "stdout",
     "output_type": "stream",
     "text": [
      "2020-12-07 19:10:12.861898\n"
     ]
    }
   ],
   "source": [
    "from datetime import datetime as dt\n",
    "now = dt.now()\n",
    "print(now)"
   ]
  },
  {
   "cell_type": "code",
   "execution_count": 11,
   "metadata": {},
   "outputs": [
    {
     "name": "stdout",
     "output_type": "stream",
     "text": [
      "년 : 2020\n",
      "월 : 12\n",
      "일 : 7\n",
      "시 : 19\n",
      "분 : 10\n",
      "초 : 12\n",
      "마이크로초 : 861898\n",
      "밀리초 : 861\n",
      "요일 : 0\n"
     ]
    }
   ],
   "source": [
    "print('년 : {}'.format(now.year))\n",
    "print('월 : {}'.format(now.month))\n",
    "print('일 : {}'.format(now.day))\n",
    "print('시 : {}'.format(now.hour))\n",
    "print('분 : {}'.format(now.minute))\n",
    "print('초 : {}'.format(now.second))\n",
    "print('마이크로초 : {}'.format(now.microsecond))\n",
    "print('밀리초 : {}'.format(now.microsecond // 1000))\n",
    "# weekday() 메소드는 요일을 숫자로 얻어올 수 있다. => 월요일(0), 화요일(1), ..., 토요일(5), 일요일(6)\n",
    "print('요일 : {}'.format(now.weekday()))"
   ]
  },
  {
   "cell_type": "code",
   "execution_count": null,
   "metadata": {},
   "outputs": [],
   "source": []
  },
  {
   "cell_type": "code",
   "execution_count": null,
   "metadata": {},
   "outputs": [],
   "source": []
  },
  {
   "cell_type": "code",
   "execution_count": null,
   "metadata": {},
   "outputs": [],
   "source": []
  },
  {
   "cell_type": "code",
   "execution_count": null,
   "metadata": {},
   "outputs": [],
   "source": []
  },
  {
   "cell_type": "code",
   "execution_count": null,
   "metadata": {},
   "outputs": [],
   "source": []
  },
  {
   "cell_type": "code",
   "execution_count": null,
   "metadata": {},
   "outputs": [],
   "source": []
  },
  {
   "cell_type": "code",
   "execution_count": null,
   "metadata": {},
   "outputs": [],
   "source": []
  },
  {
   "cell_type": "code",
   "execution_count": null,
   "metadata": {},
   "outputs": [],
   "source": []
  }
 ],
 "metadata": {
  "kernelspec": {
   "display_name": "Python 3",
   "language": "python",
   "name": "python3"
  },
  "language_info": {
   "codemirror_mode": {
    "name": "ipython",
    "version": 3
   },
   "file_extension": ".py",
   "mimetype": "text/x-python",
   "name": "python",
   "nbconvert_exporter": "python",
   "pygments_lexer": "ipython3",
   "version": "3.6.8"
  }
 },
 "nbformat": 4,
 "nbformat_minor": 4
}
