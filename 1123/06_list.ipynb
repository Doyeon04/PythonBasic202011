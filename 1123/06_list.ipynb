{
 "cells": [
  {
   "cell_type": "markdown",
   "metadata": {},
   "source": [
    "리스트 만들기  \n",
    "리스트를 만들 때는 데이터를 []로 감싸주고 각각의 데이터는 ','로 구분한다."
   ]
  },
  {
   "cell_type": "code",
   "execution_count": 4,
   "metadata": {},
   "outputs": [
    {
     "name": "stdout",
     "output_type": "stream",
     "text": [
      "[]\n",
      "<class 'list'>\n",
      "[]\n",
      "<class 'list'>\n"
     ]
    }
   ],
   "source": [
    "# 빈 리스트 만들기\n",
    "a = []\n",
    "print(a)\n",
    "print(type(a))\n",
    "# 빈 리스트는 생성자 함수를 이용해서도 만들 수 있다.\n",
    "b = list()\n",
    "print(b)\n",
    "print(type(b))"
   ]
  },
  {
   "cell_type": "code",
   "execution_count": 10,
   "metadata": {},
   "outputs": [
    {
     "name": "stdout",
     "output_type": "stream",
     "text": [
      "[[1, 2], ['A', 'B']]\n"
     ]
    }
   ],
   "source": [
    "c = [1, 2, 3]\n",
    "c = ['A', 'B', 'C', 'D']\n",
    "c = [1, 2, 'A', 'B']\n",
    "c = [1, 2, ['A', 'B']]\n",
    "c = [[1, 2], ['A', 'B']]\n",
    "print(c)"
   ]
  },
  {
   "cell_type": "markdown",
   "metadata": {},
   "source": [
    "리스트 인덱싱"
   ]
  },
  {
   "cell_type": "code",
   "execution_count": 13,
   "metadata": {},
   "outputs": [
    {
     "name": "stdout",
     "output_type": "stream",
     "text": [
      "[10, 20, 30, 40, 50]\n",
      "10\n",
      "50\n"
     ]
    }
   ],
   "source": [
    "d = [10, 20, 30, 40, 50]\n",
    "print(d)\n",
    "print(d[0])\n",
    "print(d[-1])"
   ]
  },
  {
   "cell_type": "code",
   "execution_count": 19,
   "metadata": {},
   "outputs": [
    {
     "name": "stdout",
     "output_type": "stream",
     "text": [
      "[10, 20, 30, ['a', 'b', 'c']]\n",
      "10\n",
      "4\n",
      "['a', 'b', 'c']\n",
      "3\n",
      "b\n"
     ]
    }
   ],
   "source": [
    "e = [10, 20, 30, ['a', 'b', 'c']]\n",
    "print(e)\n",
    "print(e[0])\n",
    "print(len(e)) # 리스트에서 len() 함수를 사용하면 리스트를 구성하는 데이터의 개수를 얻어온다.\n",
    "print(e[-1])\n",
    "print(len(e[-1]))\n",
    "print(e[-1][1])"
   ]
  },
  {
   "cell_type": "code",
   "execution_count": 25,
   "metadata": {},
   "outputs": [
    {
     "name": "stdout",
     "output_type": "stream",
     "text": [
      "[10, 20, ['a', 'b', ['life', 'is']]]\n",
      "3\n",
      "['a', 'b', ['life', 'is']]\n",
      "['life', 'is']\n",
      "life\n"
     ]
    }
   ],
   "source": [
    "f = [10, 20, ['a', 'b', ['life', 'is']]]\n",
    "print(f)\n",
    "print(len(f))\n",
    "print(f[2])\n",
    "print(f[2][-1])\n",
    "print(f[2][-1][0])"
   ]
  },
  {
   "cell_type": "markdown",
   "metadata": {},
   "source": [
    "리스트 슬라이싱"
   ]
  },
  {
   "cell_type": "code",
   "execution_count": 32,
   "metadata": {},
   "outputs": [
    {
     "name": "stdout",
     "output_type": "stream",
     "text": [
      "10\n",
      "<class 'int'>\n",
      "[10]\n",
      "<class 'list'>\n",
      "[10, 20, 30]\n",
      "[40, 50]\n",
      "[10, 20, 30, 40, 50]\n"
     ]
    }
   ],
   "source": [
    "g = [10, 20, 30, 40, 50]\n",
    "print(g[0])   # 10   => 인덱싱을 사용하면 인덱싱 결과를 상수로 얻어온다.\n",
    "print(type(g[0]))\n",
    "print(g[0:1]) # [10] => 슬라이싱을 사용하면 슬라이싱 결과를 리스트로 얻어온다.\n",
    "print(type(g[0:1]))\n",
    "print(g[:3])\n",
    "print(g[3:])\n",
    "print(g[:])"
   ]
  },
  {
   "cell_type": "markdown",
   "metadata": {},
   "source": [
    "인덱스 연산자"
   ]
  },
  {
   "cell_type": "code",
   "execution_count": 34,
   "metadata": {},
   "outputs": [
    {
     "name": "stdout",
     "output_type": "stream",
     "text": [
      "[1, 2, 3, 4, 5, 6, 7]\n",
      "[1, 2, 3, 1, 2, 3, 1, 2, 3]\n"
     ]
    }
   ],
   "source": [
    "# '+'는 두 개의 리스트를 연결하고 '*'는 리스트 지정한 횟수 만큼 반복한다.\n",
    "h = [1, 2, 3]\n",
    "i = [4, 5, 6, 7]\n",
    "print(h + i)\n",
    "print(h * 3)"
   ]
  },
  {
   "cell_type": "markdown",
   "metadata": {},
   "source": [
    "리스트의 수정 및 삭제"
   ]
  },
  {
   "cell_type": "code",
   "execution_count": 55,
   "metadata": {},
   "outputs": [
    {
     "name": "stdout",
     "output_type": "stream",
     "text": [
      "[10, 20, 30]\n",
      "[10, 40, 30]\n",
      "[10, 'a', 'b', 'c', 30]\n",
      "[10, 'a', ['AAA', 'BBB', 'CCC'], 'c', 30]\n",
      "[10, ['AAA', 'BBB', 'CCC'], 'c', 30]\n",
      "[10, 30]\n",
      "[]\n"
     ]
    },
    {
     "ename": "NameError",
     "evalue": "name 'j' is not defined",
     "output_type": "error",
     "traceback": [
      "\u001b[1;31m---------------------------------------------------------------------------\u001b[0m",
      "\u001b[1;31mNameError\u001b[0m                                 Traceback (most recent call last)",
      "\u001b[1;32m<ipython-input-55-08466df0103d>\u001b[0m in \u001b[0;36m<module>\u001b[1;34m\u001b[0m\n\u001b[0;32m     22\u001b[0m \u001b[1;31m# del 명령 뒤에 리스트 이름만 쓰면 리스트 자체가 삭제된다.\u001b[0m\u001b[1;33m\u001b[0m\u001b[1;33m\u001b[0m\u001b[1;33m\u001b[0m\u001b[0m\n\u001b[0;32m     23\u001b[0m \u001b[1;32mdel\u001b[0m \u001b[0mj\u001b[0m\u001b[1;33m\u001b[0m\u001b[1;33m\u001b[0m\u001b[0m\n\u001b[1;32m---> 24\u001b[1;33m \u001b[0mprint\u001b[0m\u001b[1;33m(\u001b[0m\u001b[0mj\u001b[0m\u001b[1;33m)\u001b[0m\u001b[1;33m\u001b[0m\u001b[1;33m\u001b[0m\u001b[0m\n\u001b[0m",
      "\u001b[1;31mNameError\u001b[0m: name 'j' is not defined"
     ]
    }
   ],
   "source": [
    "# 리스트를 인덱싱을 사용해 수정하려면 상수를 넣어줘야 하고 슬라이싱을 사용해 수정하려면 리스트를 넣어\n",
    "# 줘야 한다.\n",
    "j = [10, 20, 30]\n",
    "print(j)\n",
    "j[1] = 40\n",
    "print(j)\n",
    "# j[1:2] = 100 # 슬라이싱 결과는 리스트이기 때문에 상수를 넣을 수 없으므로 에러가 발생된다.\n",
    "j[1:2] = ['a', 'b', 'c']\n",
    "print(j)\n",
    "# 리스트를 인덱싱을 사용해 수정할 때 상수가 아닌 리스트를 넣어주면 리스트 자체로 수정된다.\n",
    "j[2] = ['AAA', 'BBB', 'CCC']\n",
    "print(j)\n",
    "\n",
    "# 인덱싱 방식은 del 명령으로 삭제한다.\n",
    "del j[1]\n",
    "print(j)\n",
    "# 슬라이싱 방식은 빈 리스트를 넣어주면 삭제되는 것 처럼 보인다.\n",
    "j[1:3] = []\n",
    "print(j)\n",
    "j[:] = []\n",
    "print(j)\n",
    "# del 명령 뒤에 리스트 이름만 쓰면 리스트 자체가 삭제된다.\n",
    "del j\n",
    "print(j)"
   ]
  },
  {
   "cell_type": "markdown",
   "metadata": {},
   "source": [
    "리스트 메소드"
   ]
  },
  {
   "cell_type": "code",
   "execution_count": 57,
   "metadata": {},
   "outputs": [
    {
     "name": "stdout",
     "output_type": "stream",
     "text": [
      "[1, 2, 3]\n",
      "[1, 2, 3, 100]\n"
     ]
    }
   ],
   "source": [
    "# append() 메소드는 리스트의 맨 뒤에 인수로 지정한 데이터를 추가한다.\n",
    "a = [1, 2, 3]\n",
    "print(a)\n",
    "a.append(100)\n",
    "print(a)"
   ]
  },
  {
   "cell_type": "code",
   "execution_count": 58,
   "metadata": {},
   "outputs": [
    {
     "name": "stdout",
     "output_type": "stream",
     "text": [
      "[1, 2, 3]\n",
      "[1, 100, 2, 3]\n"
     ]
    }
   ],
   "source": [
    "# insert() 메소드는 리스트의 index 번째 위치에 인수로 지정한 데이터를 삽입한다.\n",
    "a = [1, 2, 3]\n",
    "print(a)\n",
    "a.insert(1, 100)\n",
    "print(a)"
   ]
  },
  {
   "cell_type": "code",
   "execution_count": null,
   "metadata": {},
   "outputs": [],
   "source": []
  },
  {
   "cell_type": "code",
   "execution_count": null,
   "metadata": {},
   "outputs": [],
   "source": []
  },
  {
   "cell_type": "code",
   "execution_count": null,
   "metadata": {},
   "outputs": [],
   "source": []
  },
  {
   "cell_type": "code",
   "execution_count": null,
   "metadata": {},
   "outputs": [],
   "source": []
  },
  {
   "cell_type": "code",
   "execution_count": null,
   "metadata": {},
   "outputs": [],
   "source": []
  },
  {
   "cell_type": "code",
   "execution_count": null,
   "metadata": {},
   "outputs": [],
   "source": []
  }
 ],
 "metadata": {
  "kernelspec": {
   "display_name": "Python 3",
   "language": "python",
   "name": "python3"
  },
  "language_info": {
   "codemirror_mode": {
    "name": "ipython",
    "version": 3
   },
   "file_extension": ".py",
   "mimetype": "text/x-python",
   "name": "python",
   "nbconvert_exporter": "python",
   "pygments_lexer": "ipython3",
   "version": "3.6.8"
  }
 },
 "nbformat": 4,
 "nbformat_minor": 4
}
